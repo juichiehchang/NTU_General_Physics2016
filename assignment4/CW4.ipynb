{
 "cells": [
  {
   "cell_type": "markdown",
   "metadata": {},
   "source": [
    "# Computer Homework 4\n",
    "\n",
    "## Simulation of the Solar System\n",
    "\n",
    "The objective of this computer homework is to learn how to simulate the motion of Mars and Earth around the Sun. \n",
    "\n",
    "### Python data structures and statements covered in this HW\n",
    "\n",
    "* Data Structure:\n",
    "    * `dictionary`\n",
    "* Statement:\n",
    "    * `def`\n",
    "\n",
    "References: \n",
    "* [Jupyter VPython Documentation](http://www.glowscript.org/docs/VPythonDocs/index.html)\n",
    "* [Think Python: How to Think Like a Computer Scientist](http://greenteapress.com/thinkpython2/html/index.html)\n",
    "           \n",
    "\n"
   ]
  },
  {
   "cell_type": "markdown",
   "metadata": {},
   "source": [
    "## Python tutorial\n",
    "\n",
    "### Dictionary \n",
    "\n",
    "A *dictionary* is a key‐to‐value mapping data type. This is can be regarded as a *hashtable*. \n",
    "\n",
    "Here are ways to construct a dictionary in Python,\n",
    "\n",
    "```\n",
    "d1 = {1:'a', 2:'b'}\n",
    "d2 = dict(1='a', 2='b')\n",
    "d3 = {}; d3[1] = 'a'; d3[2]='b'\n",
    "```\n",
    "`d1`, `d2`, and `d3` are the same dictionary generated in different ways. \n",
    "In this example, `1`, `2` are the **keys** of the dictionary, and `'a'`,`'b'` are the **values**. \n",
    "One can use retrieve data from a dictionary by giving a key. \n",
    "\n",
    "The usual operation is shown in below:\n",
    "```\n",
    "d = {\"earth\":1, \"mars\":2, \"halley\":3} \n",
    "print(d)\n",
    "print(d[\"earth\"])\n",
    "d[\"sun\"] = \"s\"\n",
    "print(d)\n",
    "del d[\"earth\"] \n",
    "print(d)\n",
    "print(\"earth\" in d) \n",
    "print(\"earth\" not in d) \n",
    "print(len(d))\n",
    "```\n",
    "\n",
    "Statement      | Action  \n",
    "-------------- | ----------------------------------------------------\n",
    "`d[key]`       | gets the value stored in `d` at index `key`        \n",
    "`d[key]= value`| sets `d`’s value at index `key` as value          \n",
    "`key in d`     | gives `True` if `key` is in `d`, else gives `False`\n",
    "`key not in d` | gives `True` if `key` is not in `d`, else gives `False`\n",
    "`len(d)`       | gives the number of stored data in `d`             \n",
    "`dict.copy()`  | return a complete copy of `dict`                   \n",
    "\n",
    "\n",
    "Notice that the keys in a dictionary must be **immutable**, so `str`, `int` or `tuple` can be used as keys, but `list` can not.\n",
    "\n",
    "Further information see: [Dictionaries](http://greenteapress.com/thinkpython2/html/thinkpython2012.html)"
   ]
  },
  {
   "cell_type": "code",
   "execution_count": null,
   "metadata": {
    "collapsed": false
   },
   "outputs": [],
   "source": [
    "d = {\"earth\":1, \"mars\":2, \"halley\":3} \n",
    "print(d)\n",
    "print(d[\"earth\"])\n",
    "d[\"sun\"] = \"s\"\n",
    "print(d)\n",
    "del d[\"earth\"] \n",
    "print(d)\n",
    "print(\"earth\" in d) \n",
    "print(\"earth\" not in d) \n",
    "print(len(d))"
   ]
  },
  {
   "cell_type": "markdown",
   "metadata": {},
   "source": [
    "We can retreive key-value pairs by  iterate through a dictionary as"
   ]
  },
  {
   "cell_type": "code",
   "execution_count": null,
   "metadata": {
    "collapsed": false
   },
   "outputs": [],
   "source": [
    "for i,j in d.items():\n",
    "    print(i,j)"
   ]
  },
  {
   "cell_type": "markdown",
   "metadata": {},
   "source": [
    "### Function \n",
    "\n",
    "Sometimes we find in our program that similar sequences of statements occur several times, and they only differ in the  parameters supplied. In programming, we usually define a `function` to collect the sequence of statements, and call this `function` in the program with different parameters. \n",
    "\n",
    "The syntax to define a function in Python is like this example, where `area` calculates the area of a rectangle:\n",
    "```\n",
    "def area(a,b):\n",
    "    c=a*b\n",
    "    return c\n",
    "\n",
    "```\n",
    "\n",
    "If there is no `return` statement, the function will return `None`. \n",
    "\n",
    "When you create a variable inside a function, it is **local**, which means that it only exists inside the function. \n",
    "\n",
    "Further information see: [Functions](http://greenteapress.com/thinkpython2/html/thinkpython2004.html)"
   ]
  },
  {
   "cell_type": "code",
   "execution_count": null,
   "metadata": {
    "collapsed": false
   },
   "outputs": [],
   "source": [
    "def area(a,b):\n",
    "    c=a*b\n",
    "    return c\n",
    "\n",
    "area(3,4)\n"
   ]
  },
  {
   "cell_type": "markdown",
   "metadata": {},
   "source": [
    "## Problem 1\n",
    "\n",
    "### Collect Data\n",
    "\n",
    "* Construct a dictionary `mass` that contains the masses of `sun`, `earth`, and `mars`. \n",
    "\n",
    "* Constract a dictionary `radius` that contains the radii of `sun`, `earth`, and `mars`.\n",
    "\n",
    "* Construct a dictionary `d_at_peri` that contains the distances  `earth` and `mars` relative to the sun, respectively, when they are at the perihelion. \n",
    "\n",
    "* Construct a dictionary `semimajor` that contains the semi-major axis of `earth` and `mars` orbits. \n",
    "Google to find these values.\n",
    "\n",
    "* Construct a dictionary `v_at_peri` that contain  the velocities of `earth` and `mars` relative to the sun, respectively, when they are at the perihelion. \n",
    "\n",
    " \n",
    "One can calculate the perihelion velocities using the formula for the velocity of an object at some distance `r` from the Sun:\n",
    "\n",
    "$$ v^2 = G M (2/r - 1/a)$$\n",
    "\n",
    "Where `G` is the universal gravitational constant, `M` is the mass of the Sun, and `a` is the planet's semimajor axis.\n",
    "\n"
   ]
  },
  {
   "cell_type": "code",
   "execution_count": 1,
   "metadata": {
    "collapsed": false
   },
   "outputs": [],
   "source": [
    "G = 6.7E-11\n",
    "mass={\"sun\" : 1.989E30, \"earth\" : 5.972E24, \"mars\" : 6.4191E23}\n",
    "radius={\"sun\" : 6.95700E8, \"earth\" : 6378.137E3, \"mars\" : 3396.2E3}\n",
    "d_at_peri={\"earth\" : 1.4709E11, \"mars\" : 2.06655215E11}\n",
    "semimajor={\"earth\" : 149.6E9, \"mars\" : 227.92E9}\n",
    "v_at_peri={\"earth\" : 30290.0134661, \n",
    "        \"mars\" : 26502.8148826}"
   ]
  },
  {
   "cell_type": "markdown",
   "metadata": {},
   "source": [
    "### Define  functions\n",
    "\n",
    "### Force \n",
    "Construct a function `F_grav(m, r_pos)` that returns the force vector exerted on an object of mass `m` by the sun when it is at `r_pos`. Test your function for the earth when `r_pos= vector(d_at_peri['earth'], 0, 0)` in `F_grav(mass['earth'], r_pos)`."
   ]
  },
  {
   "cell_type": "code",
   "execution_count": 2,
   "metadata": {
    "collapsed": false
   },
   "outputs": [
    {
     "data": {
      "application/javascript": [
       "require.undef(\"nbextensions/vpython_libraries/jquery-ui.custom.min\");"
      ],
      "text/plain": [
       "<IPython.core.display.Javascript object>"
      ]
     },
     "metadata": {},
     "output_type": "display_data"
    },
    {
     "data": {
      "application/javascript": [
       "require.undef(\"nbextensions/vpython_libraries/glow.2.1.min\");"
      ],
      "text/plain": [
       "<IPython.core.display.Javascript object>"
      ]
     },
     "metadata": {},
     "output_type": "display_data"
    },
    {
     "data": {
      "application/javascript": [
       "require.undef(\"nbextensions/vpython_libraries/glowcomm\");"
      ],
      "text/plain": [
       "<IPython.core.display.Javascript object>"
      ]
     },
     "metadata": {},
     "output_type": "display_data"
    },
    {
     "data": {
      "application/javascript": [
       "require([\"nbextensions/vpython_libraries/jquery-ui.custom.min\"], function(){console.log(\"JQUERY LOADED\");})"
      ],
      "text/plain": [
       "<IPython.core.display.Javascript object>"
      ]
     },
     "metadata": {},
     "output_type": "display_data"
    },
    {
     "data": {
      "application/javascript": [
       "require([\"nbextensions/vpython_libraries/glow.2.1.min\"], function(){console.log(\"GLOW LOADED\");})"
      ],
      "text/plain": [
       "<IPython.core.display.Javascript object>"
      ]
     },
     "metadata": {},
     "output_type": "display_data"
    },
    {
     "data": {
      "application/javascript": [
       "require([\"nbextensions/vpython_libraries/glowcomm\"], function(){console.log(\"GLOWCOMM LOADED\");})"
      ],
      "text/plain": [
       "<IPython.core.display.Javascript object>"
      ]
     },
     "metadata": {},
     "output_type": "display_data"
    },
    {
     "data": {
      "text/html": [
       "<div id=\"glowscript\" class=\"glowscript\"></div>"
      ],
      "text/plain": [
       "<IPython.core.display.HTML object>"
      ]
     },
     "metadata": {},
     "output_type": "display_data"
    },
    {
     "data": {
      "application/javascript": [
       "window.__context = { glowscript_container: $(\"#glowscript\").removeAttr(\"id\")}"
      ],
      "text/plain": [
       "<IPython.core.display.Javascript object>"
      ]
     },
     "metadata": {},
     "output_type": "display_data"
    },
    {
     "data": {
      "text/plain": [
       "<-36784350230906255966208.000000, -0.000000, -0.000000>"
      ]
     },
     "execution_count": 2,
     "metadata": {},
     "output_type": "execute_result"
    }
   ],
   "source": [
    "from vpython import *\n",
    "def F_grav(m,r_pos):\n",
    "    \n",
    "    return ((-norm(r_pos) * G * m * mass[\"sun\"]) / (mag2(r_pos)))\n",
    "\n",
    "F_grav(mass[\"earth\"], vector(d_at_peri[\"earth\"], 0, 0))"
   ]
  },
  {
   "cell_type": "markdown",
   "metadata": {},
   "source": [
    "### Potential energy\n",
    "Now construct a function `U_grav(m,r)`  that returns the potential energy between an object of mass `m` and the sun when they are separated by distance `r`\n"
   ]
  },
  {
   "cell_type": "code",
   "execution_count": 3,
   "metadata": {
    "collapsed": false
   },
   "outputs": [
    {
     "data": {
      "text/plain": [
       "-5.410610075464001e+33"
      ]
     },
     "execution_count": 3,
     "metadata": {},
     "output_type": "execute_result"
    }
   ],
   "source": [
    "def U_grav(m,r):\n",
    "    \n",
    "    return -G * m * mass[\"sun\"] / r\n",
    "\n",
    "U_grav(mass[\"earth\"], d_at_peri[\"earth\"])"
   ]
  },
  {
   "cell_type": "markdown",
   "metadata": {},
   "source": [
    "### Kinetic energy\n",
    "Now construct a function `E_k(m,v)`  that returns the kinetic energy of an object of mass `m` with velocity `v`. Assume $v\\ll c$.\n"
   ]
  },
  {
   "cell_type": "code",
   "execution_count": 4,
   "metadata": {
    "collapsed": false
   },
   "outputs": [
    {
     "data": {
      "text/plain": [
       "2.739609958508687e+33"
      ]
     },
     "execution_count": 4,
     "metadata": {},
     "output_type": "execute_result"
    }
   ],
   "source": [
    "def E_k(m,v):\n",
    "    \n",
    "    return m * (v ** 2) / 2\n",
    "    \n",
    "E_k(mass[\"earth\"], v_at_peri[\"earth\"])"
   ]
  },
  {
   "cell_type": "markdown",
   "metadata": {
    "collapsed": true
   },
   "source": [
    "## Problem 2\n",
    "Assuming Sun is fixed and neglecting the interaction between  Earth and Mars, simulate the orbits of Earth and Mars with initial positions at perihelion and initial velocities given by `v_at_peri`.  \n",
    "\n",
    "** Note **: To make the objects visiable, we set the Sun radius by 10 times, and the planet radii by 300 times.\n",
    "* Numerically determine the periods of Earth and Mars, and compute $T^2/a^3$ for each planet, where $T$ is the period and $a$ is the semi-major axis. \n",
    "* Numerically compute the work done on Earth by the gravtiational force for 3 Earth year. Plot work done on Earth $W$,  changes in kinetic energy $\\Delta K=K_f-K_i$ and potential energy $\\Delta U=U_f-U_i$ of Earth as a function of time. \n",
    "* Do the same for Mars.\n",
    "\n",
    "    \n",
    "** Note **: position and velocity are both vector, while  `d_at_peri` and `v_at_peri` store numbers. \n",
    "\n",
    "** Hint ** : You need to approximate work by adding up amount of work done by gravitational force along each step of the path:\n",
    "$$ W=\\sum \\vec{F}\\cdot \\Delta \\vec{r} = \\vec{F}_1\\cdot \\Delta \\vec{r}_1 + \\vec{F}_2\\cdot \\Delta \\vec{r}_2 +\\cdots $$\n"
   ]
  },
  {
   "cell_type": "code",
   "execution_count": 5,
   "metadata": {
    "collapsed": false,
    "scrolled": false
   },
   "outputs": [
    {
     "data": {
      "text/html": [
       "<div id=\"glowscript\" class=\"glowscript\"></div>"
      ],
      "text/plain": [
       "<IPython.core.display.HTML object>"
      ]
     },
     "metadata": {},
     "output_type": "display_data"
    },
    {
     "data": {
      "application/javascript": [
       "window.__context = { glowscript_container: $(\"#glowscript\").removeAttr(\"id\")}"
      ],
      "text/plain": [
       "<IPython.core.display.Javascript object>"
      ]
     },
     "metadata": {},
     "output_type": "display_data"
    }
   ],
   "source": [
    "from vpython import *\n",
    "scene=canvas(height=600,width=800)\n",
    "g1=graph(scene=scene,width=400,height=200,ytitle='E',xtitle='t') # Create a graph for plotting\n",
    "gc11=gcurve(graph=g1,color=color.cyan,dot=True) \n",
    "gc12=gcurve(graph=g1,color=color.red,dot=True) \n",
    "gc13=gcurve(graph=g1,color=color.blue,dot=True) \n",
    "\n",
    "g2=graph(scene=scene,width=400,height=200,ytitle='E',xtitle='t') # Create a graph for plotting\n",
    "gc21=gcurve(graph=g2,color=color.cyan,dot=True)\n",
    "gc22=gcurve(graph=g2,color=color.red,dot=True)\n",
    "gc23=gcurve(graph=g2,color=color.blue,dot=True)"
   ]
  },
  {
   "cell_type": "code",
   "execution_count": 6,
   "metadata": {
    "collapsed": false
   },
   "outputs": [
    {
     "name": "stdout",
     "output_type": "stream",
     "text": [
      "Earth T^2/R^3 :  3.7748190295880377\n",
      "Mars T^2/R^3 :  88.34029888381772\n"
     ]
    }
   ],
   "source": [
    "Sun=sphere(radius=10*radius[\"sun\"],pos=vec(0,0,0),color=color.yellow)\n",
    "Earth=sphere(radius=300*radius[\"earth\"],pos=vec(d_at_peri[\"earth\"],0,0),color=color.green,\n",
    "                make_trail=True)\n",
    "Mars=sphere(radius=300*radius[\"mars\"],pos=vec(d_at_peri[\"mars\"],0,0),color=color.orange,  \n",
    "           make_trail=True)\n",
    "\n",
    "vEarth = vector(0, v_at_peri[\"earth\"], 0)\n",
    "vMars = vector(0, v_at_peri[\"mars\"], 0)\n",
    "\n",
    "UiEarth = U_grav(mass[\"earth\"], mag(Earth.pos))\n",
    "UiMars = U_grav(mass[\"mars\"], mag(Mars.pos))\n",
    "\n",
    "KiEarth = E_k(mass[\"earth\"], mag(vEarth))\n",
    "KiMars = E_k(mass[\"mars\"], mag(vMars))\n",
    "\n",
    "WEarth = 0\n",
    "WMars = 0\n",
    "\n",
    "listE = [];\n",
    "listM = [];\n",
    "listt = [];\n",
    "\n",
    "scene.userzoom=False\n",
    "### Define Initial Values, etc. \n",
    "t=0\n",
    "dt=1000\n",
    "count = 0\n",
    "while t<365*25*60*60*3:\n",
    "    rate(5000)\n",
    "### Your simulation\n",
    "    vEarth += (F_grav(mass[\"earth\"], Earth.pos)/mass[\"earth\"]) * dt\n",
    "    vMars += (F_grav(mass[\"mars\"], Mars.pos)/mass[\"mars\"]) * dt\n",
    "    \n",
    "    drEarth = vEarth * dt\n",
    "    drMars = vMars * dt\n",
    "    \n",
    "    WEarth += dot(drEarth, F_grav(mass[\"earth\"], Earth.pos))\n",
    "    WMars += dot(drMars, F_grav(mass[\"mars\"], Mars.pos))\n",
    "    \n",
    "    Earth.pos += drEarth\n",
    "    Mars.pos += drMars\n",
    "    \n",
    "    UfEarth = U_grav(mass[\"earth\"], mag(Earth.pos))\n",
    "    UfMars = U_grav(mass[\"mars\"], mag(Mars.pos))\n",
    "    \n",
    "    KfEarth = E_k(mass[\"earth\"], mag(vEarth))\n",
    "    KfMars = E_k(mass[\"mars\"], mag(vMars))\n",
    "    \n",
    "    dUEarth = UfEarth - UiEarth\n",
    "    dUMars = UfMars - UiMars\n",
    "    \n",
    "    dKEarth = KfEarth - KiEarth\n",
    "    dKMars = KfMars - KiMars\n",
    "    \n",
    "    gc11.plot([t, WEarth])\n",
    "    gc12.plot([t, dUEarth])\n",
    "    gc13.plot([t, dKEarth])\n",
    "    \n",
    "    gc21.plot([t, WMars])\n",
    "    gc22.plot([t, dUMars])\n",
    "    gc23.plot([t, dKMars])\n",
    "    listE.append(Earth.pos.x)\n",
    "    listt.append(t)\n",
    "    listM.append(Mars.pos.x)\n",
    "    t+=dt\n",
    "    count+=1\n",
    "##t/=dt\n",
    "for i in range(1,count):\n",
    "    if listE[i]>listE[i+1]:\n",
    "        if listE[i]>listE[i-1]:\n",
    "            tE = listt[i]*dt\n",
    "            break\n",
    "for i in range(1, count):\n",
    "    if listM[i]>listM[i+1]:\n",
    "        if listM[i]>listM[i-1]:\n",
    "            tM = listt[i]*dt\n",
    "            break\n",
    "print (\"Earth T^2/R^3 : \" ,tE**2/radius[\"earth\"]**3)\n",
    "print (\"Mars T^2/R^3 : \" ,tM**2/radius[\"mars\"]**3)\n",
    "## 1/(second^2*m^3) ##"
   ]
  },
  {
   "cell_type": "code",
   "execution_count": null,
   "metadata": {
    "collapsed": true
   },
   "outputs": [],
   "source": []
  }
 ],
 "metadata": {
  "anaconda-cloud": {},
  "kernelspec": {
   "display_name": "VPython",
   "language": "python",
   "name": "vpython"
  },
  "language_info": {
   "codemirror_mode": {
    "name": "ipython",
    "version": 3
   },
   "file_extension": ".py",
   "mimetype": "text/x-python",
   "name": "python",
   "nbconvert_exporter": "python",
   "pygments_lexer": "ipython3",
   "version": "3.5.2"
  }
 },
 "nbformat": 4,
 "nbformat_minor": 1
}
