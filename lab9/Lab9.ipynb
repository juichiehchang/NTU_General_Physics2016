{
 "cells": [
  {
   "cell_type": "markdown",
   "metadata": {},
   "source": [
    "# Lab9: A Spring-Mass System: Part 2\n",
    "\n",
    "## Objective\n",
    "\n",
    "In this activity you will extend the program you wrote in activity Lab7: A Spring-Mass System, Part 1.  Before doing this activity you should have studied Section 5.11.\n",
    "\n",
    "After completing this activity you should be able to:\n",
    "\n",
    "\n",
    "* Explain the flow of energy in a vertically oscillating spring-mass system.\n",
    "* Explain the shape of a graph of $K+U$ for a spring-mass system subject to a dissipative force (either air resistance, viscous friction, or sliding friction).\n",
    "\n",
    "*This notebook is adopted from the Lab VP08 materials from Matter & Interactions 4e* \n",
    "\n",
    "Reference: [Jupyter VPython Documentation](http://www.glowscript.org/docs/VPythonDocs/index.html)\n",
    "\n"
   ]
  },
  {
   "cell_type": "markdown",
   "metadata": {},
   "source": [
    "## Energy versus Time\n",
    "\n",
    "Start with the program you wrote in activity Lab7: A Spring-Mass System, Part 1.  \n",
    "\n",
    "*  Use initial conditions that result in purely vertical, 1D oscillations of the mass. Make sure you are using a value of $\\Delta t$ that is small compared to the period of the oscillations.\n",
    "*  Add code to produce graphs of: spring potential energy, kinetic energy, and the sum of these two terms.\n",
    "*  Is the sum constant?  Should it be constant?  Explain.  If the sum is not constant, modify the progam to make the graph of potential + kinetic energy constant.\n",
    "\n"
   ]
  },
  {
   "cell_type": "code",
   "execution_count": 1,
   "metadata": {
    "collapsed": false
   },
   "outputs": [
    {
     "data": {
      "application/javascript": [
       "require.undef(\"nbextensions/vpython_libraries/jquery-ui.custom.min\");"
      ],
      "text/plain": [
       "<IPython.core.display.Javascript object>"
      ]
     },
     "metadata": {},
     "output_type": "display_data"
    },
    {
     "data": {
      "application/javascript": [
       "require.undef(\"nbextensions/vpython_libraries/glow.2.1.min\");"
      ],
      "text/plain": [
       "<IPython.core.display.Javascript object>"
      ]
     },
     "metadata": {},
     "output_type": "display_data"
    },
    {
     "data": {
      "application/javascript": [
       "require.undef(\"nbextensions/vpython_libraries/glowcomm\");"
      ],
      "text/plain": [
       "<IPython.core.display.Javascript object>"
      ]
     },
     "metadata": {},
     "output_type": "display_data"
    },
    {
     "data": {
      "application/javascript": [
       "require([\"nbextensions/vpython_libraries/jquery-ui.custom.min\"], function(){console.log(\"JQUERY LOADED\");})"
      ],
      "text/plain": [
       "<IPython.core.display.Javascript object>"
      ]
     },
     "metadata": {},
     "output_type": "display_data"
    },
    {
     "data": {
      "application/javascript": [
       "require([\"nbextensions/vpython_libraries/glow.2.1.min\"], function(){console.log(\"GLOW LOADED\");})"
      ],
      "text/plain": [
       "<IPython.core.display.Javascript object>"
      ]
     },
     "metadata": {},
     "output_type": "display_data"
    },
    {
     "data": {
      "application/javascript": [
       "require([\"nbextensions/vpython_libraries/glowcomm\"], function(){console.log(\"GLOWCOMM LOADED\");})"
      ],
      "text/plain": [
       "<IPython.core.display.Javascript object>"
      ]
     },
     "metadata": {},
     "output_type": "display_data"
    },
    {
     "data": {
      "text/html": [
       "<div id=\"glowscript\" class=\"glowscript\"></div>"
      ],
      "text/plain": [
       "<IPython.core.display.HTML object>"
      ]
     },
     "metadata": {},
     "output_type": "display_data"
    },
    {
     "data": {
      "application/javascript": [
       "window.__context = { glowscript_container: $(\"#glowscript\").removeAttr(\"id\")}"
      ],
      "text/plain": [
       "<IPython.core.display.Javascript object>"
      ]
     },
     "metadata": {},
     "output_type": "display_data"
    },
    {
     "data": {
      "text/html": [
       "<div id=\"glowscript\" class=\"glowscript\"></div>"
      ],
      "text/plain": [
       "<IPython.core.display.HTML object>"
      ]
     },
     "metadata": {},
     "output_type": "display_data"
    },
    {
     "data": {
      "application/javascript": [
       "window.__context = { glowscript_container: $(\"#glowscript\").removeAttr(\"id\")}"
      ],
      "text/plain": [
       "<IPython.core.display.Javascript object>"
      ]
     },
     "metadata": {},
     "output_type": "display_data"
    }
   ],
   "source": [
    "from vpython import *\n",
    "scene=canvas(width=400,height=500,title='Click to start') # Create a canvas for 3D graphics, align to the left\n",
    "g=graph(width=400,height=400) # Create a graph for plotting, align to the right\n",
    "gc1=gcurve(graph=g,color=color.cyan) # Plotting data points using gcurve\n",
    "gc2=gcurve(graph=g,color=color.red) # Plotting data points using gcurve\n",
    "gc3=gcurve(graph=g,color=color.blue) # Plotting data points using gcurve\n",
    "gc4=gcurve(graph=g,color=color.black)"
   ]
  },
  {
   "cell_type": "code",
   "execution_count": null,
   "metadata": {
    "collapsed": false
   },
   "outputs": [],
   "source": [
    "## constants and data\n",
    "g = 9.8\n",
    "mball = 0.03\n",
    "L0 = 0.26\n",
    "ks = 1.8\n",
    "deltat = .001  \n",
    "## objects (origin is at ceiling)\n",
    "ceiling = box(pos=vector(0,0,0), length=0.2, height=0.01, width=0.2) \n",
    "ball = sphere(pos=vector(0.0,-0.3,0.0), radius=0.025,\\\n",
    "              color=color.orange)\n",
    "spring = helix(pos=ceiling.pos, axis=ball.pos-ceiling.pos,\\\n",
    "               color=color.cyan, thickness=.003, coils=40, radius=0.010)\n",
    "## initial values\n",
    "pball = mball*vector(0,0,0)\n",
    "Fgrav = mball*g*vector(0,-1,0)\n",
    "t = 0\n",
    "## improve the display\n",
    "scene.autoscale = False  \n",
    "scene.userzoom= False \n",
    "## turn off automatic camera zoom\n",
    "scene.center = vector(0,-L0,0)   ## move camera down \n",
    "scene.waitfor('click')           ## wait for a mouse click\n",
    "## calculation loop\n",
    "while t <10:\n",
    "    rate(100)\n",
    "    L=ball.pos-ceiling.pos\n",
    "    Fspring=-ks*(L.mag-L0)*L.norm()\n",
    "    Fnet = Fgrav+Fspring\n",
    "    pball = pball + Fnet*deltat\n",
    "    ball.pos = ball.pos + (pball/mball)*deltat\n",
    "    spring.axis = ball.pos - ceiling.pos\n",
    "    U = ks * (mag(L) - L0)**2 / 2\n",
    "    E = mball * mag2(pball / mball) / 2\n",
    "    U2 = mball * g * (ball.pos.y + 0.3)\n",
    "    total = U + E + U2\n",
    "    gc1.plot([t, U])\n",
    "    gc2.plot([t, E])\n",
    "    gc3.plot([t, total])\n",
    "    gc4.plot([t, U2])\n",
    "    t = t + deltat\n"
   ]
  },
  {
   "cell_type": "markdown",
   "metadata": {},
   "source": [
    "## Dissipation \n",
    "\n",
    "A real spring-mass system will not oscillate forever.  To refine this model, we need to add a dissipative interaction.\n",
    "\n",
    "\n",
    "* Add either an air resistance force or a viscous friction force (as if the system were immersed in oil) to your model.  You will need to invent values for the appropriate constants, and adjust these values until you get reasonable damping behavior.  Find values that allow your system to go through 10-15 oscillations before it stops moving.\n",
    "* Make sure that your graphs include **all** appropriate forms of energy for the system of mass, spring, and Earth.\n",
    "* Does the sum of kinetic and potential energy decrease linearly?  Explain the shape of this graph.\n"
   ]
  },
  {
   "cell_type": "code",
   "execution_count": null,
   "metadata": {
    "collapsed": false
   },
   "outputs": [],
   "source": [
    "## constants and data\n",
    "g = 9.8\n",
    "mball = 0.03\n",
    "L0 = 0.26\n",
    "ks = 1.8\n",
    "deltat = .01 \n",
    "## objects (origin is at ceiling)\n",
    "ceiling = box(pos=vector(0,0,0), length=0.2, height=0.01, width=0.2) \n",
    "ball = sphere(pos=vector(0.0,-0.3,0.0), radius=0.025,\\\n",
    "              color=color.orange)\n",
    "spring = helix(pos=ceiling.pos, axis=ball.pos-ceiling.pos,\\\n",
    "               color=color.cyan, thickness=.003, coils=40, radius=0.010)\n",
    "kair = 12.25 * pi * ((ball.radius)**2) * 0.45 / 2\n",
    "## initial values\n",
    "pball = mball*vector(0,0,0)\n",
    "Fgrav = mball*g*vector(0,-1,0)\n",
    "t = 0\n",
    "## improve the display\n",
    "scene.autoscale = False  \n",
    "scene.userzoom= False \n",
    "## turn off automatic camera zoom\n",
    "scene.center = vector(0,-L0,0)   ## move camera down \n",
    "scene.waitfor('click')           ## wait for a mouse click\n",
    "## calculation loop\n",
    "while t <10:\n",
    "    rate(100)\n",
    "    L=ball.pos-ceiling.pos\n",
    "    Fspring=-ks*(L.mag-L0)*L.norm()\n",
    "    Fnet = Fgrav+Fspring\n",
    "    f=kair*mag2(pball/mball)\n",
    "    pball = pball + Fnet*deltat\n",
    "    if pball.y >= 0:\n",
    "        pball = pball - f * vector(0, 1, 0)*deltat*5\n",
    "    else:\n",
    "        pball = pball + f * vector(0, 1, 0)*deltat*5\n",
    "    ball.pos = ball.pos + (pball/mball)*deltat\n",
    "    spring.axis = ball.pos - ceiling.pos\n",
    "    U = ks * (mag(L) - L0)**2 / 2\n",
    "    E = mball * mag2(pball / mball) / 2\n",
    "    U2 = mball * g * (ball.pos.y + 0.3)\n",
    "    total = U + E + U2\n",
    "    gc1.plot([t, U])\n",
    "    gc2.plot([t, E])\n",
    "    gc3.plot([t, total])\n",
    "    gc4.plot([t, U2])\n",
    "    t = t + deltat\n"
   ]
  },
  {
   "cell_type": "code",
   "execution_count": null,
   "metadata": {
    "collapsed": true
   },
   "outputs": [],
   "source": []
  }
 ],
 "metadata": {
  "anaconda-cloud": {},
  "kernelspec": {
   "display_name": "VPython",
   "language": "python",
   "name": "vpython"
  },
  "language_info": {
   "codemirror_mode": {
    "name": "ipython",
    "version": 3
   },
   "file_extension": ".py",
   "mimetype": "text/x-python",
   "name": "python",
   "nbconvert_exporter": "python",
   "pygments_lexer": "ipython3",
   "version": "3.5.2"
  }
 },
 "nbformat": 4,
 "nbformat_minor": 1
}
